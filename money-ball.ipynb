{
 "cells": [
  {
   "cell_type": "code",
   "execution_count": 1,
   "id": "45e1fc71",
   "metadata": {
    "_cell_guid": "b1076dfc-b9ad-4769-8c92-a6c4dae69d19",
    "_uuid": "8f2839f25d086af736a60e9eeb907d3b93b6e0e5",
    "execution": {
     "iopub.execute_input": "2022-12-06T23:39:44.417205Z",
     "iopub.status.busy": "2022-12-06T23:39:44.416565Z",
     "iopub.status.idle": "2022-12-06T23:39:44.440774Z",
     "shell.execute_reply": "2022-12-06T23:39:44.439118Z"
    },
    "papermill": {
     "duration": 0.034773,
     "end_time": "2022-12-06T23:39:44.445203",
     "exception": false,
     "start_time": "2022-12-06T23:39:44.410430",
     "status": "completed"
    },
    "tags": []
   },
   "outputs": [
    {
     "name": "stdout",
     "output_type": "stream",
     "text": [
      "/kaggle/input/hittingstats/2018_MLB_Hitting_Stats.txt\n",
      "/kaggle/input/pitchingstats/2018_MLB_Pitching_Stats_II.txt\n"
     ]
    }
   ],
   "source": [
    "# This Python 3 environment comes with many helpful analytics libraries installed\n",
    "# It is defined by the kaggle/python Docker image: https://github.com/kaggle/docker-python\n",
    "# For example, here's several helpful packages to load\n",
    "\n",
    "import numpy as np # linear algebra\n",
    "import pandas as pd # data processing, CSV file I/O (e.g. pd.read_csv)\n",
    "\n",
    "# Input data files are available in the read-only \"../input/\" directory\n",
    "# For example, running this (by clicking run or pressing Shift+Enter) will list all files under the input directory\n",
    "\n",
    "import os\n",
    "for dirname, _, filenames in os.walk('/kaggle/input'):\n",
    "    for filename in filenames:\n",
    "        print(os.path.join(dirname, filename))\n",
    "\n",
    "# You can write up to 20GB to the current directory (/kaggle/working/) that gets preserved as output when you create a version using \"Save & Run All\" \n",
    "# You can also write temporary files to /kaggle/temp/, but they won't be saved outside of the current session"
   ]
  },
  {
   "cell_type": "code",
   "execution_count": 2,
   "id": "2a36028c",
   "metadata": {
    "execution": {
     "iopub.execute_input": "2022-12-06T23:39:44.453837Z",
     "iopub.status.busy": "2022-12-06T23:39:44.453310Z",
     "iopub.status.idle": "2022-12-06T23:39:45.686813Z",
     "shell.execute_reply": "2022-12-06T23:39:45.685584Z"
    },
    "papermill": {
     "duration": 1.24048,
     "end_time": "2022-12-06T23:39:45.689422",
     "exception": false,
     "start_time": "2022-12-06T23:39:44.448942",
     "status": "completed"
    },
    "tags": []
   },
   "outputs": [],
   "source": [
    "import math\n",
    "import matplotlib.pyplot as plt\n",
    "import seaborn as sb\n",
    "\n",
    "path1 = '/kaggle/input/hittingstats/2018_MLB_Hitting_Stats.txt'\n",
    "path2 = '/kaggle/input/pitchingstats/2018_MLB_Pitching_Stats_II.txt'\n",
    "\n",
    "hd_df = pd.read_csv(path1, delim_whitespace=True)\n",
    "pd_df = pd.read_csv(path2, delim_whitespace=True)\n",
    "\n",
    "x = [1.0,2.0,4.0,6.0,5.0,6.0,9.0,8.0,11.0,12.0]\n",
    "y = [14.0,10.0,12.0,9.0,8.0,6.0,4.0,3.0,3.0,10.0]"
   ]
  },
  {
   "cell_type": "code",
   "execution_count": 3,
   "id": "b38ccbdd",
   "metadata": {
    "execution": {
     "iopub.execute_input": "2022-12-06T23:39:45.697450Z",
     "iopub.status.busy": "2022-12-06T23:39:45.696855Z",
     "iopub.status.idle": "2022-12-06T23:39:45.724196Z",
     "shell.execute_reply": "2022-12-06T23:39:45.723113Z"
    },
    "papermill": {
     "duration": 0.034514,
     "end_time": "2022-12-06T23:39:45.726834",
     "exception": false,
     "start_time": "2022-12-06T23:39:45.692320",
     "status": "completed"
    },
    "tags": []
   },
   "outputs": [],
   "source": [
    "def corcoeff(xd, yd):\n",
    "    sigma1 = sigma_xy(xd, yd) * len(xd)\n",
    "    sigma2 = sum(xd)*sum(yd)\n",
    "    sigma3 = len(xd) * sum([val**2 for val in xd])\n",
    "    sigma4 = sum(xd)**2\n",
    "    sigma5 = len(yd) * sum([val**2 for val in yd])\n",
    "    sigma6 = sum(yd)**2\n",
    "    top = (sigma1 - sigma2)\n",
    "    bottom = (math.sqrt(sigma3-sigma4))*(math.sqrt(sigma5-sigma6))\n",
    "    return top/bottom\n",
    "    \n",
    "\n",
    "def sigma_xy(xd, yd):\n",
    "    nlist = []\n",
    "    for i in range(len(xd)):\n",
    "        nlist.append((xd[i]*yd[i]))\n",
    "    return sum(nlist)\n",
    "\n",
    "def least_sqrs(xd, yd):\n",
    "    matrix1 = [[sum(val**2 for val in xd), sum(xd)], [sum(xd), len(xd)]]\n",
    "    matrix2 = [sigma_xy(xd, yd), sum(yd)]\n",
    "    array1 = np.array(matrix1)\n",
    "    array2 = np.array(matrix2)\n",
    "    invarray1 = np.linalg.inv(array1)\n",
    "    solution = np.dot(invarray1, array2)\n",
    "    return solution\n",
    "\n",
    "def scatter_plot(data1, data2, slope, y_int):\n",
    "    y_vals = []\n",
    "    x_data = [min(data1), max(data1)]\n",
    "    for val in range(2):\n",
    "        ans = (slope * x_data[val]) + y_int\n",
    "        y_vals.append(ans)\n",
    "    plt.plot(x_data, y_vals, '-r')\n",
    "    plt.scatter(data1, data2)\n",
    "    plt.title('SCATTER PLOT')\n",
    "    plt.xlabel('X')\n",
    "    plt.ylabel('Y')\n",
    "    plt.text(x_data[1], y_vals[1], f'Y={round(slope)}*X+{round(y_int)}', color='g')\n",
    "    plt.show()\n",
    "    \n",
    "    \n",
    "def mean(data):\n",
    "    total = sum(data)\n",
    "    m = total/len(data)\n",
    "    return m\n",
    "    \n",
    "def median(data):\n",
    "    data.sort()\n",
    "    if len(data)%2 == 0:\n",
    "        m = (data[len(data)//2] + data[len(data)//2-1])/2\n",
    "    else:\n",
    "        m = data[len(data)//2]\n",
    "    return m\n",
    "\n",
    "def variance(data):\n",
    "    new_list = [(val-mean(data))**2 for val in data]\n",
    "    v = mean(new_list)\n",
    "    return v\n",
    "\n",
    "def stand_dev(data):\n",
    "    v = variance(data)\n",
    "    s = math.sqrt(v)\n",
    "    return s\n",
    "\n",
    "def residuals(xd, yd, n=2):\n",
    "    mb = least_sqrs(xd, yd)\n",
    "    ys = [val*mb[0]+mb[1] for val in xd]\n",
    "    r = [yd[n]-ys[n] for n in range(len(yd))]\n",
    "    mr = mean(r)\n",
    "    stdr = stand_dev(r)\n",
    "    return r, mr, stdr\n",
    "\n",
    "def scatter_plot_er(data1, data2, slope, y_int, std, n=2):\n",
    "    y_vals = []\n",
    "    e1 = []\n",
    "    e2 = []\n",
    "    x_data = [min(data1), max(data1)]\n",
    "    for val in range(2):\n",
    "        ans = (slope * x_data[val]) + y_int\n",
    "        y_vals.append(ans)\n",
    "    for val in range(2):\n",
    "        ans = (slope * x_data[val]) + y_int +(n*std)\n",
    "        e1.append(ans)\n",
    "    for val in range(2):\n",
    "        ans = (slope * x_data[val]) + y_int -(n*std)\n",
    "        e2.append(ans)\n",
    "    plt.plot(x_data, y_vals, '-r')\n",
    "    plt.plot(x_data, e1, '--r')\n",
    "    plt.plot(x_data, e2, '--r')\n",
    "    plt.scatter(data1, data2)\n",
    "    plt.title('SCATTER PLOT')\n",
    "    plt.xlabel('X')\n",
    "    plt.ylabel('Y')\n",
    "    plt.text(x_data[1], y_vals[1], f'Y={round(slope)}*X+{round(y_int)}', color='g')\n",
    "    plt.show()\n",
    "    \n",
    "def remove_point(xd, yd, slope, y_int, std, n=2):\n",
    "    for val in range(len(xd)):\n",
    "        y1 = (slope * xd[val]) + y_int +(n*std)\n",
    "        y2 = (slope * xd[val]) + y_int -(n*std)\n",
    "        if yd[val] > y1 or yd[val] < y2:\n",
    "            yd.pop(val)\n",
    "            xd.pop(val)\n",
    "    return xd, yd"
   ]
  },
  {
   "cell_type": "code",
   "execution_count": 4,
   "id": "984b42a4",
   "metadata": {
    "execution": {
     "iopub.execute_input": "2022-12-06T23:39:45.734205Z",
     "iopub.status.busy": "2022-12-06T23:39:45.733412Z",
     "iopub.status.idle": "2022-12-06T23:39:45.746573Z",
     "shell.execute_reply": "2022-12-06T23:39:45.745278Z"
    },
    "papermill": {
     "duration": 0.021436,
     "end_time": "2022-12-06T23:39:45.751047",
     "exception": false,
     "start_time": "2022-12-06T23:39:45.729611",
     "status": "completed"
    },
    "tags": []
   },
   "outputs": [],
   "source": [
    "def rmse(res):\n",
    "    new_list = [val**2 for val in res]\n",
    "    s = sum(new_list)\n",
    "    i = s/len(new_list)\n",
    "    return math.sqrt(i)\n",
    "\n",
    "tres, tmres, tstdres = residuals(x, y)\n",
    "rmset = rmse(tres)\n"
   ]
  },
  {
   "cell_type": "code",
   "execution_count": 5,
   "id": "6b72e84c",
   "metadata": {
    "execution": {
     "iopub.execute_input": "2022-12-06T23:39:45.766957Z",
     "iopub.status.busy": "2022-12-06T23:39:45.765908Z",
     "iopub.status.idle": "2022-12-06T23:39:45.804473Z",
     "shell.execute_reply": "2022-12-06T23:39:45.803426Z"
    },
    "papermill": {
     "duration": 0.052771,
     "end_time": "2022-12-06T23:39:45.810553",
     "exception": false,
     "start_time": "2022-12-06T23:39:45.757782",
     "status": "completed"
    },
    "tags": []
   },
   "outputs": [
    {
     "data": {
      "text/html": [
       "<div>\n",
       "<style scoped>\n",
       "    .dataframe tbody tr th:only-of-type {\n",
       "        vertical-align: middle;\n",
       "    }\n",
       "\n",
       "    .dataframe tbody tr th {\n",
       "        vertical-align: top;\n",
       "    }\n",
       "\n",
       "    .dataframe thead th {\n",
       "        text-align: right;\n",
       "    }\n",
       "</style>\n",
       "<table border=\"1\" class=\"dataframe\">\n",
       "  <thead>\n",
       "    <tr style=\"text-align: right;\">\n",
       "      <th></th>\n",
       "      <th>H Name</th>\n",
       "      <th>hitting</th>\n",
       "      <th>P Name</th>\n",
       "      <th>Pitching</th>\n",
       "    </tr>\n",
       "  </thead>\n",
       "  <tbody>\n",
       "    <tr>\n",
       "      <th>0</th>\n",
       "      <td>OBP</td>\n",
       "      <td>0.798343</td>\n",
       "      <td>ERA</td>\n",
       "      <td>-0.875797</td>\n",
       "    </tr>\n",
       "    <tr>\n",
       "      <th>1</th>\n",
       "      <td>SLG</td>\n",
       "      <td>0.749826</td>\n",
       "      <td>SO</td>\n",
       "      <td>0.736197</td>\n",
       "    </tr>\n",
       "    <tr>\n",
       "      <th>2</th>\n",
       "      <td>AVG</td>\n",
       "      <td>0.688590</td>\n",
       "      <td>ER</td>\n",
       "      <td>-0.874808</td>\n",
       "    </tr>\n",
       "    <tr>\n",
       "      <th>3</th>\n",
       "      <td>RBI</td>\n",
       "      <td>0.823533</td>\n",
       "      <td>HR</td>\n",
       "      <td>-0.656634</td>\n",
       "    </tr>\n",
       "  </tbody>\n",
       "</table>\n",
       "</div>"
      ],
      "text/plain": [
       "  H Name   hitting P Name  Pitching\n",
       "0    OBP  0.798343    ERA -0.875797\n",
       "1    SLG  0.749826     SO  0.736197\n",
       "2    AVG  0.688590     ER -0.874808\n",
       "3    RBI  0.823533     HR -0.656634"
      ]
     },
     "execution_count": 5,
     "metadata": {},
     "output_type": "execute_result"
    }
   ],
   "source": [
    "# hd_df\n",
    "# hitting coreelation coefficients\n",
    "obp_list = hd_df['OBP'].values.tolist()\n",
    "slg_list = hd_df[ 'SLG'].values.tolist()\n",
    "avg_list = hd_df['AVG'].values.tolist()\n",
    "rbi_list = hd_df['RBI'].values.tolist()\n",
    "wpct_list = hd_df['WPCT'].values.tolist()\n",
    "\n",
    "wpct_obp = corcoeff(wpct_list, obp_list)\n",
    "wpct_slg = corcoeff(wpct_list, slg_list)\n",
    "wpct_avg = corcoeff(wpct_list, avg_list)\n",
    "wpct_rbi = corcoeff(wpct_list, rbi_list)\n",
    "\n",
    "# Pitching correlation coefficients\n",
    "era_list = pd_df['ERA'].values.tolist()\n",
    "so_list = pd_df['SO'].values.tolist()\n",
    "er_list = pd_df['ER'].values.tolist()\n",
    "hr_list = pd_df['HR'].values.tolist()\n",
    "pwpct_list = pd_df['WPCT'].values.tolist()\n",
    "\n",
    "wpct_era = corcoeff(pwpct_list, era_list)\n",
    "wpct_so = corcoeff(pwpct_list, so_list)\n",
    "wpct_er = corcoeff(pwpct_list, er_list)\n",
    "wpct_hr = corcoeff(pwpct_list, hr_list)\n",
    "# new data frame for the correlations\n",
    "\n",
    "coeeff_dict = {'H Name': ['OBP', 'SLG', 'AVG', \"RBI\"],\n",
    "               'hitting': [wpct_obp, wpct_slg, wpct_avg, wpct_rbi],\n",
    "               'P Name': ['ERA', 'SO', 'ER', 'HR'],\n",
    "               'Pitching': [wpct_era, wpct_so, wpct_er, wpct_hr]\n",
    "           }\n",
    "ndf = pd.DataFrame(coeeff_dict)\n",
    "ndf\n"
   ]
  },
  {
   "cell_type": "code",
   "execution_count": null,
   "id": "39098cde",
   "metadata": {
    "papermill": {
     "duration": 0.003486,
     "end_time": "2022-12-06T23:39:45.820853",
     "exception": false,
     "start_time": "2022-12-06T23:39:45.817367",
     "status": "completed"
    },
    "tags": []
   },
   "outputs": [],
   "source": []
  }
 ],
 "metadata": {
  "kernelspec": {
   "display_name": "Python 3",
   "language": "python",
   "name": "python3"
  },
  "language_info": {
   "codemirror_mode": {
    "name": "ipython",
    "version": 3
   },
   "file_extension": ".py",
   "mimetype": "text/x-python",
   "name": "python",
   "nbconvert_exporter": "python",
   "pygments_lexer": "ipython3",
   "version": "3.7.12"
  },
  "papermill": {
   "default_parameters": {},
   "duration": 11.416403,
   "end_time": "2022-12-06T23:39:46.651028",
   "environment_variables": {},
   "exception": null,
   "input_path": "__notebook__.ipynb",
   "output_path": "__notebook__.ipynb",
   "parameters": {},
   "start_time": "2022-12-06T23:39:35.234625",
   "version": "2.3.4"
  }
 },
 "nbformat": 4,
 "nbformat_minor": 5
}
